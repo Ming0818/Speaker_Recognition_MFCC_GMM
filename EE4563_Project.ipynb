{
 "cells": [
  {
   "cell_type": "markdown",
   "metadata": {},
   "source": [
    "# MFCC and Gaussian Mixture Models for Speaker Recognition\n",
    "    \n",
    "This python program aims to tackle speaker recognition as a machine learning problem. \n",
    "The program generates and uses the Mel-frequency cepstrum coefficients of the samples for feature extraction. It then generates Gaussian Mixture Models for each subject. The models predict the subject for a given test sample by comparing its extracted features to the trained models.\n",
    "\n",
    "Institution: New York University, Tandon School of Engineering<br>\n",
    "Instructor: Sundeep Rangan<br>\n",
    "Authors: Michael Chen, William Xia<br>"
   ]
  },
  {
   "cell_type": "code",
   "execution_count": 1,
   "metadata": {
    "collapsed": true
   },
   "outputs": [],
   "source": [
    "import tensorflow as tf"
   ]
  },
  {
   "cell_type": "code",
   "execution_count": 2,
   "metadata": {
    "collapsed": true
   },
   "outputs": [],
   "source": [
    "import numpy as np\n",
    "import matplotlib\n",
    "import matplotlib.pyplot as plt\n",
    "import wave, os, glob\n",
    "%matplotlib inline"
   ]
  },
  {
   "cell_type": "code",
   "execution_count": 3,
   "metadata": {
    "collapsed": true
   },
   "outputs": [],
   "source": [
    "import librosa\n",
    "import librosa.display\n",
    "import librosa.feature\n",
    "from sklearn.mixture import GaussianMixture as GMM"
   ]
  },
  {
   "cell_type": "code",
   "execution_count": 4,
   "metadata": {
    "collapsed": true
   },
   "outputs": [],
   "source": [
    "def preprocess_data(subject_num, block_size, threshold):\n",
    "    \"\"\"\n",
    "    Given a subject number:\n",
    "        - retrieve data from directory \n",
    "        - remove low power components\n",
    "        - divide the continuous sound vector into uniform blocks\n",
    "        - compute MFCC for each block\n",
    "    \n",
    "    Returns:\n",
    "        - S, tensor of shape (num_samp, n_mels)\n",
    "    \n",
    "    \"\"\" \n",
    "    \n",
    "    # Create empty vector to store data\n",
    "    subject = []\n",
    "    \n",
    "    # Define path\n",
    "    path = \"/Users/willi/EE4563/speech_samples/subject_\"+subject_num+\"/left-headed\"\n",
    "    \n",
    "    # Retrieve data from directory, concatenate all wav file data in the target directory\n",
    "    for filename in glob.glob(os.path.join(path, '*.wav')):\n",
    "        y, sr = librosa.load(filename)    \n",
    "        subject = np.append(subject,y)\n",
    "\n",
    "    # Remove low power components\n",
    "    low_ind = (abs(subject) <= threshold)\n",
    "    subject[low_ind] = 0\n",
    "    \n",
    "    subject_active = subject[subject != 0]\n",
    "    \n",
    "    num_samples = int(np.floor(len(subject_active)/block_size))\n",
    "    \n",
    "    # Reshape data into blocks of samples\n",
    "    subject_seg = subject_active[0:(num_samples*block_size)]\n",
    "    subject_seg = np.reshape(subject_seg,(num_samples,-1))\n",
    "    \n",
    "    block_time = (librosa.feature.melspectrogram(y=subject_seg[0,:], sr=sr, n_mels=128, fmax=8000)).shape[1]\n",
    "    S = np.empty((0,128,block_time))\n",
    "    \n",
    "    print(\"SUBJECT \",subject_num)\n",
    "    print(\"Generating MFCC for %d total samples.\" %num_samples)\n",
    "    \n",
    "    # Generate MFCC over each sample\n",
    "    for n in range(0,num_samples):\n",
    "\n",
    "        S = np.append(S,librosa.feature.melspectrogram(y=subject_seg[n,:], sr=sr, n_mels=128, fmax=8000)[None,:,:],axis = 0)\n",
    "        if n % 500 == 0:\n",
    "            print(n,\" samples done\")\n",
    "            \n",
    "    print(\"* COMPLETE *\")\n",
    "    \n",
    "    # Plot the spectrogram of the first block/sample\n",
    "    librosa.display.specshow(librosa.logamplitude(S[0,:,:],ref_power=np.max),\n",
    "                             y_axis='mel', fmax=8000, x_axis='time')\n",
    "    plt.colorbar(format='%+2.0f dB')\n",
    "    plt.title('Mel spectrogram\\nSubject %s Block 0' %subject_num)\n",
    "    plt.tight_layout()\n",
    "        \n",
    "    return S[:,:,0]"
   ]
  },
  {
   "cell_type": "code",
   "execution_count": 5,
   "metadata": {
    "collapsed": true
   },
   "outputs": [],
   "source": [
    "def check_user(speech_samp,model1, model2, model3, model4):\n",
    "    \"\"\"\n",
    "    Given a speech sample fragment and four possible speaker models:\n",
    "        - determine how likely the sample came from each of the models\n",
    "        - print the predicted speaker the speech sample belongs to\n",
    "            \n",
    "    Returns: NONE\n",
    "    \n",
    "    \"\"\" \n",
    "    \n",
    "    # Score the speech sample using each given model\n",
    "    scores = np.array(([model1.score(speech_samp),model2.score(speech_samp),\n",
    "                        model3.score(speech_samp),model4.score(speech_samp)]))\n",
    "    \n",
    "    # The largest value in the score vector corresponds to the most likely speaker\n",
    "    predicted_speaker = np.argmax(scores)+1\n",
    "    print(\"The predicted speaker is subject %d\" %predicted_speaker)\n",
    "    "
   ]
  },
  {
   "cell_type": "code",
   "execution_count": 6,
   "metadata": {
    "collapsed": true
   },
   "outputs": [],
   "source": [
    "# Define basic parameters\n",
    "\n",
    "block_size = 256\n",
    "threshold = 0.05\n",
    "nts = 1000\n",
    "ncomp = 8"
   ]
  },
  {
   "cell_type": "code",
   "execution_count": 7,
   "metadata": {},
   "outputs": [
    {
     "name": "stdout",
     "output_type": "stream",
     "text": [
      "SUBJECT  1\n",
      "Generating MFCC for 13899 total samples.\n",
      "0  samples done\n",
      "500  samples done\n",
      "1000  samples done\n",
      "1500  samples done\n",
      "2000  samples done\n",
      "2500  samples done\n",
      "3000  samples done\n",
      "3500  samples done\n",
      "4000  samples done\n",
      "4500  samples done\n",
      "5000  samples done\n",
      "5500  samples done\n",
      "6000  samples done\n",
      "6500  samples done\n",
      "7000  samples done\n",
      "7500  samples done\n",
      "8000  samples done\n",
      "8500  samples done\n",
      "9000  samples done\n",
      "9500  samples done\n",
      "10000  samples done\n",
      "10500  samples done\n",
      "11000  samples done\n",
      "11500  samples done\n",
      "12000  samples done\n",
      "12500  samples done\n",
      "13000  samples done\n",
      "13500  samples done\n",
      "* COMPLETE *\n"
     ]
    },
    {
     "data": {
      "image/png": "[encoded data removed]",
      "text/plain": [
       "<matplotlib.figure.Figure at 0x204e7d404e0>"
      ]
     },
     "metadata": {},
     "output_type": "display_data"
    }
   ],
   "source": [
    "# Preprocess data for subject 1\n",
    "\n",
    "subject = '1'\n",
    "S1 = preprocess_data(subject,block_size,threshold)"
   ]
  },
  {
   "cell_type": "code",
   "execution_count": 8,
   "metadata": {},
   "outputs": [
    {
     "name": "stdout",
     "output_type": "stream",
     "text": [
      "SUBJECT  2\n",
      "Generating MFCC for 20319 total samples.\n",
      "0  samples done\n",
      "500  samples done\n",
      "1000  samples done\n",
      "1500  samples done\n",
      "2000  samples done\n",
      "2500  samples done\n",
      "3000  samples done\n",
      "3500  samples done\n",
      "4000  samples done\n",
      "4500  samples done\n",
      "5000  samples done\n",
      "5500  samples done\n",
      "6000  samples done\n",
      "6500  samples done\n",
      "7000  samples done\n",
      "7500  samples done\n",
      "8000  samples done\n",
      "8500  samples done\n",
      "9000  samples done\n",
      "9500  samples done\n",
      "10000  samples done\n",
      "10500  samples done\n",
      "11000  samples done\n",
      "11500  samples done\n",
      "12000  samples done\n",
      "12500  samples done\n",
      "13000  samples done\n",
      "13500  samples done\n",
      "14000  samples done\n",
      "14500  samples done\n",
      "15000  samples done\n",
      "15500  samples done\n",
      "16000  samples done\n",
      "16500  samples done\n",
      "17000  samples done\n",
      "17500  samples done\n",
      "18000  samples done\n",
      "18500  samples done\n",
      "19000  samples done\n",
      "19500  samples done\n",
      "20000  samples done\n",
      "* COMPLETE *\n"
     ]
    },
    {
     "data": {
      "image/png": "[encoded data removed]",
      "text/plain": [
       "<matplotlib.figure.Figure at 0x2048017e320>"
      ]
     },
     "metadata": {},
     "output_type": "display_data"
    }
   ],
   "source": [
    "# Preprocess data for subject 2\n",
    "\n",
    "subject = '2'\n",
    "S2 = preprocess_data(subject,block_size,threshold)"
   ]
  },
  {
   "cell_type": "code",
   "execution_count": 9,
   "metadata": {},
   "outputs": [
    {
     "name": "stdout",
     "output_type": "stream",
     "text": [
      "SUBJECT  3\n",
      "Generating MFCC for 12453 total samples.\n",
      "0  samples done\n",
      "500  samples done\n",
      "1000  samples done\n",
      "1500  samples done\n",
      "2000  samples done\n",
      "2500  samples done\n",
      "3000  samples done\n",
      "3500  samples done\n",
      "4000  samples done\n",
      "4500  samples done\n",
      "5000  samples done\n",
      "5500  samples done\n",
      "6000  samples done\n",
      "6500  samples done\n",
      "7000  samples done\n",
      "7500  samples done\n",
      "8000  samples done\n",
      "8500  samples done\n",
      "9000  samples done\n",
      "9500  samples done\n",
      "10000  samples done\n",
      "10500  samples done\n",
      "11000  samples done\n",
      "11500  samples done\n",
      "12000  samples done\n",
      "* COMPLETE *\n"
     ]
    },
    {
     "data": {
      "image/png": "[encoded data removed]",
      "text/plain": [
       "<matplotlib.figure.Figure at 0x204802377f0>"
      ]
     },
     "metadata": {},
     "output_type": "display_data"
    }
   ],
   "source": [
    "# Preprocess data for subject 3\n",
    "\n",
    "subject = '3'\n",
    "S3 = preprocess_data(subject,block_size,threshold)"
   ]
  },
  {
   "cell_type": "code",
   "execution_count": 10,
   "metadata": {},
   "outputs": [
    {
     "name": "stdout",
     "output_type": "stream",
     "text": [
      "SUBJECT  4\n",
      "Generating MFCC for 10433 total samples.\n",
      "0  samples done\n",
      "500  samples done\n",
      "1000  samples done\n",
      "1500  samples done\n",
      "2000  samples done\n",
      "2500  samples done\n",
      "3000  samples done\n",
      "3500  samples done\n",
      "4000  samples done\n",
      "4500  samples done\n",
      "5000  samples done\n",
      "5500  samples done\n",
      "6000  samples done\n",
      "6500  samples done\n",
      "7000  samples done\n",
      "7500  samples done\n",
      "8000  samples done\n",
      "8500  samples done\n",
      "9000  samples done\n",
      "9500  samples done\n",
      "10000  samples done\n",
      "* COMPLETE *\n"
     ]
    },
    {
     "data": {
      "image/png": "[encoded data removed]",
      "text/plain": [
       "<matplotlib.figure.Figure at 0x204eac96748>"
      ]
     },
     "metadata": {},
     "output_type": "display_data"
    }
   ],
   "source": [
    "# Preprocess data for subject 4\n",
    "\n",
    "subject = '4'\n",
    "S4 = preprocess_data(subject,block_size,threshold)"
   ]
  },
  {
   "cell_type": "code",
   "execution_count": 11,
   "metadata": {},
   "outputs": [
    {
     "data": {
      "text/plain": [
       "GaussianMixture(covariance_type='full', init_params='kmeans', max_iter=100,\n",
       "        means_init=None, n_components=8, n_init=1, precisions_init=None,\n",
       "        random_state=None, reg_covar=1e-06, tol=0.001, verbose=0,\n",
       "        verbose_interval=10, warm_start=False, weights_init=None)"
      ]
     },
     "execution_count": 11,
     "metadata": {},
     "output_type": "execute_result"
    }
   ],
   "source": [
    "# Split training/test data and fit Gaussian Mixture Model for subject 1\n",
    "\n",
    "ntr1 = S1.shape[0]-nts\n",
    "\n",
    "Xtr1 = S1[:ntr1,:]\n",
    "Xts1 = S1[ntr1:,:]\n",
    "gmm1 = GMM(n_components=ncomp)\n",
    "\n",
    "# Fit model to training data\n",
    "gmm1.fit(Xtr1)"
   ]
  },
  {
   "cell_type": "code",
   "execution_count": 12,
   "metadata": {},
   "outputs": [
    {
     "data": {
      "text/plain": [
       "GaussianMixture(covariance_type='full', init_params='kmeans', max_iter=100,\n",
       "        means_init=None, n_components=8, n_init=1, precisions_init=None,\n",
       "        random_state=None, reg_covar=1e-06, tol=0.001, verbose=0,\n",
       "        verbose_interval=10, warm_start=False, weights_init=None)"
      ]
     },
     "execution_count": 12,
     "metadata": {},
     "output_type": "execute_result"
    }
   ],
   "source": [
    "# Split training/test data and fit Gaussian Mixture Model for subject 2\n",
    "\n",
    "ntr2 = S2.shape[0]-nts\n",
    "\n",
    "Xtr2 = S2[:ntr2,:]\n",
    "Xts2 = S2[ntr2:,:]\n",
    "gmm2 = GMM(n_components=ncomp)\n",
    "\n",
    "# Fit model to training data\n",
    "gmm2.fit(Xtr2)"
   ]
  },
  {
   "cell_type": "code",
   "execution_count": 14,
   "metadata": {},
   "outputs": [
    {
     "data": {
      "text/plain": [
       "GaussianMixture(covariance_type='full', init_params='kmeans', max_iter=100,\n",
       "        means_init=None, n_components=8, n_init=1, precisions_init=None,\n",
       "        random_state=None, reg_covar=1e-06, tol=0.001, verbose=0,\n",
       "        verbose_interval=10, warm_start=False, weights_init=None)"
      ]
     },
     "execution_count": 14,
     "metadata": {},
     "output_type": "execute_result"
    }
   ],
   "source": [
    "# Split training/test data and fit Gaussian Mixture Model for subject 3\n",
    "\n",
    "ntr3 = S3.shape[0]-nts\n",
    "\n",
    "Xtr3 = S3[:ntr3,:]\n",
    "Xts3 = S3[ntr3:,:]\n",
    "gmm3 = GMM(n_components=ncomp)\n",
    "\n",
    "# Fit model to training data\n",
    "gmm3.fit(Xtr3)"
   ]
  },
  {
   "cell_type": "code",
   "execution_count": 15,
   "metadata": {},
   "outputs": [
    {
     "data": {
      "text/plain": [
       "GaussianMixture(covariance_type='full', init_params='kmeans', max_iter=100,\n",
       "        means_init=None, n_components=8, n_init=1, precisions_init=None,\n",
       "        random_state=None, reg_covar=1e-06, tol=0.001, verbose=0,\n",
       "        verbose_interval=10, warm_start=False, weights_init=None)"
      ]
     },
     "execution_count": 15,
     "metadata": {},
     "output_type": "execute_result"
    }
   ],
   "source": [
    "# Split training/test data and fit Gaussian Mixture Model for subject 4\n",
    "\n",
    "ntr4 = S4.shape[0]-nts\n",
    "\n",
    "Xtr4 = S4[:ntr4,:]\n",
    "Xts4 = S4[ntr4:,:]\n",
    "gmm4 = GMM(n_components=ncomp)\n",
    "\n",
    "# Fit model to training data\n",
    "gmm4.fit(Xtr4)"
   ]
  },
  {
   "cell_type": "code",
   "execution_count": 16,
   "metadata": {},
   "outputs": [
    {
     "name": "stdout",
     "output_type": "stream",
     "text": [
      "[[  96.18561701   94.23030309   72.2948307    55.12997124]\n",
      " [  69.68478661   88.42666048   55.0195013    -1.05834359]\n",
      " [ -64.70211491  -58.62552334   44.33784437 -206.60817366]\n",
      " [  70.5601071    77.75093071  129.28673197  134.94173002]]\n"
     ]
    }
   ],
   "source": [
    "# Compute a matrix on the scores \n",
    "# Ideally, the values on the diagonals should be high, while the off-diagonal values low\n",
    "\n",
    "scores = np.array(([gmm1.score(Xts1),gmm2.score(Xts1),gmm3.score(Xts1),gmm4.score(Xts1)],\n",
    "                   [gmm1.score(Xts2),gmm2.score(Xts2),gmm3.score(Xts2),gmm4.score(Xts2)],\n",
    "                   [gmm1.score(Xts3),gmm2.score(Xts3),gmm3.score(Xts3),gmm4.score(Xts3)],\n",
    "                   [gmm1.score(Xts4),gmm2.score(Xts4),gmm3.score(Xts4),gmm4.score(Xts4)]))\n",
    "\n",
    "print(scores)"
   ]
  },
  {
   "cell_type": "code",
   "execution_count": 19,
   "metadata": {},
   "outputs": [
    {
     "name": "stdout",
     "output_type": "stream",
     "text": [
      "The predicted speaker is subject 4\n",
      "The predicted speaker is subject 1\n",
      "The predicted speaker is subject 3\n",
      "The predicted speaker is subject 2\n"
     ]
    }
   ],
   "source": [
    "# Use the test data from each speaker to test the models\n",
    "\n",
    "check_user(Xts4,gmm1,gmm2,gmm3,gmm4) # Speaker 4\n",
    "check_user(Xts1,gmm1,gmm2,gmm3,gmm4) # Speaker 1\n",
    "check_user(Xts3,gmm1,gmm2,gmm3,gmm4) # Speaker 3\n",
    "check_user(Xts2,gmm1,gmm2,gmm3,gmm4) # Speaker 2"
   ]
  },
  {
   "cell_type": "markdown",
   "metadata": {},
   "source": [
    "## NOTES:\n",
    "\n",
    "-  Based on the matrix of scores (similar a confusion matrix), we can see in columns two and three that the Gaussian models for speakers 2 and 3 are not best modeled by their respective speakers. Thus, through the study of either model 2 or model 3, they will select the incorrect speaker for which they were trained on.<br>\n",
    "-  This has little consequence for the problem we approach however, since we test a speech sample across the models, rather than a model across the speakers. This is evident since the check_speaker function correctly identifies the speaker for all four samples.<br>\n",
    "-  Smaller block sizes may have resulted in more samples and an optimizer may be implemented to maximize a speech sample's score with its model over the block_size-to-num_samp relationsip. Additionally, this system can be generalized to a larger number of speakers. However, to save computation time, a relatively small pool of four speakers was used and a constant block size was chosen."
   ]
  }
 ],
 "metadata": {
  "kernelspec": {
   "display_name": "Python 3",
   "language": "python",
   "name": "python3"
  },
  "language_info": {
   "codemirror_mode": {
    "name": "ipython",
    "version": 3
   },
   "file_extension": ".py",
   "mimetype": "text/x-python",
   "name": "python",
   "nbconvert_exporter": "python",
   "pygments_lexer": "ipython3",
   "version": "3.6.2"
  }
 },
 "nbformat": 4,
 "nbformat_minor": 2
}
